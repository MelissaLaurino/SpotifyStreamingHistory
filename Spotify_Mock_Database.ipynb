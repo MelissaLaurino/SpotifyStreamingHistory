{
 "cells": [
  {
   "cell_type": "markdown",
   "id": "1268ae43-b014-447b-930b-4b6d57b066a1",
   "metadata": {},
   "source": [
    "Melissa Laurino <br>\n",
    "Spring 2025"
   ]
  },
  {
   "cell_type": "markdown",
   "id": "ed267645-58b4-448c-8680-520e754e9fc1",
   "metadata": {},
   "source": [
    "## In Class Activity - 2/20/25\n",
    "### Create a practice Spotify database from a .csv file with no previous specification of tables (NO schema):"
   ]
  },
  {
   "cell_type": "code",
   "execution_count": 6,
   "id": "be33ffc2-4110-48aa-bf27-8bacf9e2ace8",
   "metadata": {},
   "outputs": [],
   "source": [
    "# Load necessary packages:\n",
    "from sqlalchemy import create_engine, inspect, text # Database navigation\n",
    "import sqlite3 # A second option for working with databases\n",
    "import pandas as pd # Python data manilpulation"
   ]
  },
  {
   "cell_type": "code",
   "execution_count": 2,
   "id": "4e409dc0-b42a-422c-a598-1ea23c5ce829",
   "metadata": {},
   "outputs": [],
   "source": [
    "# Change working directory to explore mock Spotify database\n",
    "import os\n",
    "os.chdir('/Users/melissa/Documents/DSSA/DGW/Python_Spring2025/Spotify Extended Streaming History/')"
   ]
  },
  {
   "cell_type": "code",
   "execution_count": 42,
   "id": "74de1753-fba1-4f64-8d62-1382543abdfb",
   "metadata": {},
   "outputs": [
    {
     "name": "stderr",
     "output_type": "stream",
     "text": [
      "/var/folders/_9/x6f1rdhs15d70lkp6829tnw80000gn/T/ipykernel_32221/124341830.py:3: DtypeWarning: Columns (20) have mixed types. Specify dtype option on import or set low_memory=False.\n",
      "  df = pd.read_csv(csv_file)\n"
     ]
    },
    {
     "data": {
      "text/plain": [
       "202678"
      ]
     },
     "execution_count": 42,
     "metadata": {},
     "output_type": "execute_result"
    }
   ],
   "source": [
    "# Load the .csv subset (Already cleaned with R in a previous semester)\n",
    "csv_file = \"spotify_subset_2012_2024.csv\"  # Replace with your actual file path\n",
    "df = pd.read_csv(csv_file)\n",
    "\n",
    "# Create a SQLite database and engine\n",
    "db_file = \"spotify_data.db\"\n",
    "engine = create_engine(f\"sqlite:///{db_file}\")\n",
    "\n",
    "# Store the dataframe in the database as a single table for easy practice\n",
    "df.to_sql(\"spotify_history\", con=engine, if_exists=\"replace\", index=False)"
   ]
  },
  {
   "cell_type": "code",
   "execution_count": 43,
   "id": "ff0713d0-14ae-4d0e-9691-83418b9c29be",
   "metadata": {},
   "outputs": [
    {
     "name": "stdout",
     "output_type": "stream",
     "text": [
      "Columns in spotify_history table:\n",
      "ts - TEXT\n",
      "platform - TEXT\n",
      "ms_played - BIGINT\n",
      "conn_country - TEXT\n",
      "ip_addr - TEXT\n",
      "master_metadata_track_name - TEXT\n",
      "master_metadata_album_artist_name - TEXT\n",
      "master_metadata_album_album_name - TEXT\n",
      "spotify_track_uri - TEXT\n",
      "episode_name - FLOAT\n",
      "episode_show_name - FLOAT\n",
      "spotify_episode_uri - FLOAT\n",
      "audiobook_title - FLOAT\n",
      "audiobook_uri - FLOAT\n",
      "audiobook_chapter_uri - FLOAT\n",
      "audiobook_chapter_title - FLOAT\n",
      "reason_start - TEXT\n",
      "reason_end - TEXT\n",
      "shuffle - BOOLEAN\n",
      "skipped - BOOLEAN\n",
      "offline - BOOLEAN\n",
      "offline_timestamp - FLOAT\n",
      "incognito_mode - BOOLEAN\n",
      "year - BIGINT\n"
     ]
    }
   ],
   "source": [
    "# Inspect the database to list the fields\n",
    "inspector = inspect(engine)\n",
    "columns = inspector.get_columns(\"spotify_history\")\n",
    "\n",
    "# Print column names\n",
    "print(\"Columns in spotify_history table:\")\n",
    "for col in columns:\n",
    "    print(col[\"name\"], \"-\", col[\"type\"])"
   ]
  },
  {
   "cell_type": "markdown",
   "id": "9d0c5d5f-f075-4028-81c7-8bf7ed7c00b4",
   "metadata": {},
   "source": [
    "<br>\n",
    "In class activity query guidelines: <br>\n",
    "<br>\n",
    "Query 1:<br>\n",
    "Find the top 30 artists listened to in the year 2024.<br>\n",
    "<br>\n",
    "Query 2:<br>\n",
    "Find the top 30 songs listened to in the year 2017.<br>\n",
    "<br>\n",
    "Query 3:<br>\n",
    "Ask a question and create your own! <br>"
   ]
  },
  {
   "cell_type": "markdown",
   "id": "320e11b4-a514-49f6-8d7d-5070475580db",
   "metadata": {},
   "source": [
    "### Query 1 Example: Top Artists"
   ]
  },
  {
   "cell_type": "code",
   "execution_count": 54,
   "id": "6a720798-88e4-40ef-9256-0e388597a5a7",
   "metadata": {},
   "outputs": [
    {
     "name": "stdout",
     "output_type": "stream",
     "text": [
      "     master_metadata_album_artist_name  play_count\n",
      "0                          Miley Cyrus        8895\n",
      "1                        Ariana Grande        4536\n",
      "2                          Marian Hill        4020\n",
      "3                           Noah Cyrus        3673\n",
      "4                               Hozier        3219\n",
      "5                         Lana Del Rey        3169\n",
      "6                            Lady Gaga        2988\n",
      "7                       Nashville Cast        2923\n",
      "8                       Meghan Trainor        2810\n",
      "9                        Billie Eilish        2801\n",
      "10                              Eminem        2691\n",
      "11                        Taylor Swift        2587\n",
      "12                 Panic! At The Disco        2507\n",
      "13                      Britney Spears        2460\n",
      "14                          Ed Sheeran        2437\n",
      "15                      Mumford & Sons        2057\n",
      "16                          Lord Huron        2051\n",
      "17                      The Civil Wars        2033\n",
      "18                       Amy Winehouse        1991\n",
      "19                               Adele        1856\n",
      "20                               Kesha        1797\n",
      "21                      Camila Cabello        1656\n",
      "22                         Demi Lovato        1519\n",
      "23                         Fleet Foxes        1501\n",
      "24                          Nickelback        1477\n",
      "25  Scott Bradlee's Postmodern Jukebox        1430\n",
      "26                  Christina Aguilera        1347\n",
      "27                       The Lumineers        1181\n",
      "28                    Carrie Underwood        1112\n",
      "29                             Pitbull        1105\n"
     ]
    }
   ],
   "source": [
    "# SELECT the master_metadata_album_artist_name and the COUNT the number of times they appear as the play_count\n",
    "# FROM the spotify_history database\n",
    "# GROUP the results set BY the master_metadata_album_artist_name\n",
    "# ORDER BY the play_count and sort the results in DESC order\n",
    "# LIMIT the results for the top 30\n",
    "\n",
    "query = text(\"\"\"\n",
    "                SELECT master_metadata_album_artist_name, COUNT (*) AS play_count\n",
    "                FROM spotify_history\n",
    "                GROUP BY master_metadata_album_artist_name\n",
    "                ORDER BY play_count DESC\n",
    "                LIMIT 30;\n",
    "            \"\"\")\n",
    "\n",
    "with engine.connect() as connection:\n",
    "    top_artists = pd.read_sql(query, connection)\n",
    "\n",
    "print(top_artists)"
   ]
  },
  {
   "cell_type": "markdown",
   "id": "1f1f0dfb-a1ea-430e-a4da-cb85064257d4",
   "metadata": {},
   "source": [
    "### Query 1 Example - Top Artists in 2024 from 2012-2024"
   ]
  },
  {
   "cell_type": "code",
   "execution_count": 58,
   "id": "8c5f0144-6d18-48bf-bc04-2bf46ed5fd8d",
   "metadata": {},
   "outputs": [
    {
     "name": "stdout",
     "output_type": "stream",
     "text": [
      "                 artist  minutes_played\n",
      "0           Miley Cyrus            1307\n",
      "1                Hozier            1159\n",
      "2         Ariana Grande             840\n",
      "3                Eminem             776\n",
      "4             Lady Gaga             709\n",
      "5     Sabrina Carpenter             706\n",
      "6            Noah Kahan             623\n",
      "7           Teddy Swims             483\n",
      "8         Billie Eilish             477\n",
      "9                   CIL             456\n",
      "10                Dasha             434\n",
      "11           Noah Cyrus             427\n",
      "12     Steven Rodriguez             406\n",
      "13              Beyoncé             366\n",
      "14       Olivia Rodrigo             357\n",
      "15       Mumford & Sons             343\n",
      "16      Chris Stapleton             328\n",
      "17        Chappell Roan             326\n",
      "18         Taylor Swift             320\n",
      "19         Lana Del Rey             317\n",
      "20         Benson Boone             313\n",
      "21  Panic! At The Disco             303\n",
      "22                Kesha             291\n",
      "23       Britney Spears             282\n",
      "24        Amy Winehouse             244\n",
      "25          Marian Hill             235\n",
      "26        Avril Lavigne             228\n",
      "27         Natalie Jane             222\n",
      "28                  Sia             215\n",
      "29            Meg & Dia             214\n"
     ]
    }
   ],
   "source": [
    "# SELECT the master_metadata_album_artist_name AS artist and SUM the ms_played and divide by 60000\n",
    "# FROM the spotify_history table\n",
    "# WHERE the year  is equal to 2024\n",
    "# GROUP (Result set) BY the artist \n",
    "# ORDER (Result set) BY minute_played in DESC order\n",
    "# LIMIT (Result set) by 30;\n",
    "\n",
    "query = text(\"\"\"\n",
    "    SELECT master_metadata_album_artist_name AS artist, \n",
    "           SUM(ms_played) / 60000 AS minutes_played\n",
    "    FROM spotify_history\n",
    "    WHERE year = 2024\n",
    "    GROUP BY artist\n",
    "    ORDER BY minutes_played DESC\n",
    "    LIMIT 30;\n",
    "\"\"\")\n",
    "\n",
    "with engine.connect() as connection:\n",
    "    top_artists_2024 = pd.read_sql(query, connection)\n",
    "\n",
    "print(top_artists_2024)"
   ]
  },
  {
   "cell_type": "markdown",
   "id": "8f9194d4-86ee-4a7c-8206-fc7699feda1f",
   "metadata": {},
   "source": [
    "### Query 2 Example: Top Songs by Play Count - 2012-2024"
   ]
  },
  {
   "cell_type": "code",
   "execution_count": 103,
   "id": "8fec2faf-50c7-4b5f-bbe4-d7e5b3156c6a",
   "metadata": {},
   "outputs": [
    {
     "name": "stdout",
     "output_type": "stream",
     "text": [
      "        master_metadata_track_name  play_count\n",
      "0                            River         540\n",
      "1                           Malibu         521\n",
      "2              All About That Bass         436\n",
      "3                          7 rings         392\n",
      "4                       Slide Away         390\n",
      "5           When the Night is Over         387\n",
      "6                    Fade Into You         386\n",
      "7                             Down         381\n",
      "8                  Angels Like You         366\n",
      "9  It Ain’t Me (with Selena Gomez)         365\n"
     ]
    }
   ],
   "source": [
    "# SELECT the master_metadata_track_name and COUNT(*) AS play_count\n",
    "# FROM the spotify_history table\n",
    "# GROUP (Result set) BY the master_metadata_track_name \n",
    "# ORDER (Result set) BY play_count in DESC order\n",
    "# LIMIT (Result set) by 10;\n",
    "\n",
    "query = text(\"\"\"\n",
    "    SELECT master_metadata_track_name, COUNT(*) AS play_count\n",
    "    FROM spotify_history\n",
    "    GROUP BY master_metadata_track_name\n",
    "    ORDER BY play_count DESC\n",
    "    LIMIT 10;\n",
    "\"\"\")\n",
    "\n",
    "with engine.connect() as connection:\n",
    "    top_songs = pd.read_sql(query, connection)\n",
    "\n",
    "print(top_songs)"
   ]
  },
  {
   "cell_type": "markdown",
   "id": "1e6f3c5c-8390-4486-a162-66bb7f833484",
   "metadata": {},
   "source": [
    "### Query 2 Example: Top 30 Songs by Minutes Played in 2017"
   ]
  },
  {
   "cell_type": "code",
   "execution_count": 78,
   "id": "cc36fc80-4ac1-4683-9ac6-dcad4a360d21",
   "metadata": {},
   "outputs": [
    {
     "name": "stdout",
     "output_type": "stream",
     "text": [
      "                                                 song  minutes_played\n",
      "0                                              Malibu             677\n",
      "1                                        Shape of You             489\n",
      "2                     It Ain’t Me (with Selena Gomez)             414\n",
      "3                                               Close             326\n",
      "4                           Havana (feat. Young Thug)             277\n",
      "5                                        Take Me Down             255\n",
      "6                                              Anyway             227\n",
      "7             Rockabye (feat. Sean Paul & Anne-Marie)             216\n",
      "8                                    Week Without You             215\n",
      "9                                        Love Someone             201\n",
      "10                                      All Right Now             193\n",
      "11                                            Rainbow             188\n",
      "12                                            Praying             186\n",
      "13                                      Hunt You Down             178\n",
      "14                                            Perfect             160\n",
      "15                                              Vibe.             159\n",
      "16                                        Galway Girl             159\n",
      "17                                          I'm Stuck             156\n",
      "18                                 Drunk on Your Love             153\n",
      "19                                               Dive             146\n",
      "20                                              Boots             146\n",
      "21                                           Bad Mood             139\n",
      "22                  Woman (feat. The Dap-Kings Horns)             138\n",
      "23                                      Stay Together             137\n",
      "24  Old Flames (Can't Hold A Candle To You) (feat....             134\n",
      "25                                   Never Forget You             118\n",
      "26                                     Whiskey's Fine             116\n",
      "27                                         Stone Cold             113\n",
      "28                         What If I - Guitar Version             112\n",
      "29                              A Long And Happy Life             112\n"
     ]
    }
   ],
   "source": [
    "# SELECT the master_metadata_track_name AS song and sum the ms_played and divide by 60000 to convert to minutes\n",
    "# FROM the spotify_history table\n",
    "# WHERE year = 2017\n",
    "# GROUP (Result set) BY the song \n",
    "# ORDER (Result set) BY minutes_played in DESC order\n",
    "# LIMIT (Result set) by 30;\n",
    "\n",
    "query = text(\"\"\"\n",
    "    SELECT master_metadata_track_name AS song, \n",
    "           SUM(ms_played) / 60000 AS minutes_played\n",
    "    FROM spotify_history\n",
    "    WHERE year = 2017\n",
    "    GROUP BY song\n",
    "    ORDER BY minutes_played DESC\n",
    "    LIMIT 30;\n",
    "\"\"\")\n",
    "\n",
    "with engine.connect() as connection:\n",
    "    top_artists_2017 = pd.read_sql(query, connection)\n",
    "\n",
    "print(top_artists_2017)"
   ]
  },
  {
   "cell_type": "code",
   "execution_count": 105,
   "id": "488780e9-0b76-44e2-9865-55e3fdcc4af0",
   "metadata": {},
   "outputs": [
    {
     "name": "stdout",
     "output_type": "stream",
     "text": [
      "                                        album  play_count\n",
      "0                            eternal sunshine         334\n",
      "1                           What Happens Now?         194\n",
      "2                     Endless Summer Vacation         168\n",
      "3                                     Unheard         165\n",
      "4  I've Tried Everything But Therapy (Part 1)         163\n"
     ]
    }
   ],
   "source": [
    "# SELECT the master_metadata_album_album_name AS album and COUNT all records as play_count\n",
    "# FROM the spotify_history table\n",
    "# WHERE year = 2024\n",
    "# GROUP (Result set) BY the album \n",
    "# ORDER (Result set) BY play_count in DESC order\n",
    "# LIMIT (Result set) by 5;\n",
    "\n",
    "query = text(\"\"\"\n",
    "    SELECT master_metadata_album_album_name AS album, \n",
    "           COUNT(*) AS play_count\n",
    "    FROM spotify_history\n",
    "    WHERE year = 2024\n",
    "    GROUP BY album\n",
    "    ORDER BY play_count DESC\n",
    "    LIMIT 5;\n",
    "\"\"\")\n",
    "\n",
    "with engine.connect() as connection:\n",
    "    top_albums_2024 = pd.read_sql(query, connection)\n",
    "\n",
    "print(top_albums_2024)"
   ]
  },
  {
   "cell_type": "code",
   "execution_count": 101,
   "id": "e71d1e73-8107-4028-9666-c6787f5ac744",
   "metadata": {},
   "outputs": [
    {
     "name": "stdout",
     "output_type": "stream",
     "text": [
      "  hour  play_count\n",
      "0   11       16978\n",
      "1   12       16262\n",
      "2   16       16183\n",
      "3   15       14637\n",
      "4   20       13014\n"
     ]
    }
   ],
   "source": [
    "# SELECT the %H from the ts field AS hour and COUNT all records as play_count\n",
    "# FROM the spotify_history table\n",
    "# GROUP (Result set) BY the hour \n",
    "# ORDER (Result set) BY play_count in DESC order\n",
    "# LIMIT (Result set) by 5;\n",
    "\n",
    "query = text(\"\"\"\n",
    "            SELECT strftime('%H', ts) AS hour, COUNT(*) AS play_count\n",
    "            FROM spotify_history\n",
    "            GROUP BY hour\n",
    "            ORDER BY play_count DESC\n",
    "            LIMIT 5;\n",
    "            \"\"\")\n",
    "\n",
    "with engine.connect() as connection:\n",
    "    top_hours = pd.read_sql(query, connection)\n",
    "\n",
    "print(top_hours)"
   ]
  }
 ],
 "metadata": {
  "kernelspec": {
   "display_name": "Python [conda env:base] *",
   "language": "python",
   "name": "conda-base-py"
  },
  "language_info": {
   "codemirror_mode": {
    "name": "ipython",
    "version": 3
   },
   "file_extension": ".py",
   "mimetype": "text/x-python",
   "name": "python",
   "nbconvert_exporter": "python",
   "pygments_lexer": "ipython3",
   "version": "3.9.21"
  }
 },
 "nbformat": 4,
 "nbformat_minor": 5
}
